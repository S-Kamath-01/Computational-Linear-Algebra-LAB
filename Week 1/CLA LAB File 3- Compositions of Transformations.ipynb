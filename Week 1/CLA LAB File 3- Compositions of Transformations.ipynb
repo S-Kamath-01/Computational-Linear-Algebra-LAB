{
 "cells": [
  {
   "cell_type": "code",
   "execution_count": 1,
   "id": "ae4aaf75",
   "metadata": {},
   "outputs": [],
   "source": [
    "import numpy as np\n",
    "import matplotlib\n",
    "import matplotlib.pyplot as plt"
   ]
  },
  {
   "cell_type": "code",
   "execution_count": 2,
   "id": "dbc49546",
   "metadata": {},
   "outputs": [],
   "source": [
    "# Function to rotate a point\n",
    "def rotate_point(point, angle_degrees):\n",
    "    angle_radians = np.radians(angle_degrees)\n",
    "    rotation_matrix = np.array([[np.cos(angle_radians), -np.sin(angle_radians)],\n",
    "                                [np.sin(angle_radians), np.cos(angle_radians)]])\n",
    "    return np.dot(rotation_matrix, point)\n",
    "\n",
    "\n",
    "# Function to reflect a point\n",
    "def reflect_point(point, line_angle_degrees):\n",
    "    line_angle_radians = np.radians(line_angle_degrees)\n",
    "    reflection_matrix = np.array([\n",
    "        [np.cos(2 * line_angle_radians), np.sin(2 * line_angle_radians)],\n",
    "        [np.sin(2 * line_angle_radians), -np.cos(2 * line_angle_radians)]\n",
    "    ])\n",
    "    return np.dot(reflection_matrix, point)\n",
    "\n",
    "\n",
    "# Function to shear a point\n",
    "def shear_point(point, shear_factor, direction='x'):\n",
    "    if direction == 'x':\n",
    "        shear_matrix = np.array([[1, shear_factor],\n",
    "                                 [0, 1]])\n",
    "    elif direction == 'y':\n",
    "        shear_matrix = np.array([[1, 0],\n",
    "                                 [shear_factor, 1]])\n",
    "    return np.dot(shear_matrix, point)\n",
    "\n",
    "\n",
    "# Function to scale a point\n",
    "def scale_point(point, scale_factor):\n",
    "    scaling_matrix = np.array([\n",
    "        [scale_factor, 0],\n",
    "        [0, scale_factor]\n",
    "    ])\n",
    "    return np.dot(scaling_matrix, point)"
   ]
  },
  {
   "cell_type": "code",
   "execution_count": 3,
   "id": "87936e25",
   "metadata": {},
   "outputs": [],
   "source": [
    "# Function to apply transformations to a set of vertices\n",
    "def transform_shape(vertices, transformations):\n",
    "    transformed_vertices = vertices.copy()\n",
    "    for transform in transformations:\n",
    "        type_ = transform['type']\n",
    "        if type_ == 'rotation':\n",
    "            theta = transform['theta']\n",
    "            transformed_vertices = np.array([rotate_point(v, theta) for v in transformed_vertices])\n",
    "        elif type_ == 'reflection':\n",
    "            theta = transform['theta']\n",
    "            transformed_vertices = np.array([reflect_point(v, theta) for v in transformed_vertices])\n",
    "        elif type_ == 'shear':\n",
    "            shear_factor = transform['shear_factor']\n",
    "            direction = transform['direction']\n",
    "            transformed_vertices = np.array([shear_point(v, shear_factor, direction) for v in transformed_vertices])\n",
    "        elif type_ == 'scaling':\n",
    "            scale_factor = transform['scale_factor']\n",
    "            transformed_vertices = np.array([scale_point(v, scale_factor) for v in transformed_vertices])\n",
    "    return transformed_vertices\n"
   ]
  },
  {
   "cell_type": "code",
   "execution_count": 4,
   "id": "51e39523",
   "metadata": {},
   "outputs": [],
   "source": [
    "# Function to plot a shape with vertex labels\n",
    "def plot_shape(vertices, color='blue', label_prefix='P'):\n",
    "    closed_vertices = np.append(vertices, [vertices[0]], axis=0)\n",
    "    plt.plot(closed_vertices[:, 0], closed_vertices[:, 1], 'o-', color=color)\n",
    "    for i, (x, y) in enumerate(vertices):\n",
    "        plt.text(x + 0.1, y + 0.1, f'{label_prefix}{i+1}', fontsize=12, color=color)"
   ]
  },
  {
   "cell_type": "code",
   "execution_count": 5,
   "id": "f4f2224d",
   "metadata": {},
   "outputs": [
    {
     "data": {
      "image/png": "[encoded data removed]",
      "text/plain": [
       "<Figure size 576x576 with 1 Axes>"
      ]
     },
     "metadata": {
      "needs_background": "light"
     },
     "output_type": "display_data"
    }
   ],
   "source": [
    "# Define vertices of a square\n",
    "original_square = np.array([[0, 0], [1, 0], [1, 1], [0, 1]])\n",
    "\n",
    "\n",
    "# Plot the square\n",
    "plt.figure(figsize=(8, 8))\n",
    "plot_shape(original_square, color='blue', label_prefix='P')\n",
    "\n",
    "\n",
    "# Sequence of transformations\n",
    "transformations = [\n",
    "    {'type': 'reflection', 'theta': 0},\n",
    "    {'type': 'shear', 'shear_factor': 0.3, 'direction': 'x'},\n",
    "    {'type': 'rotation', 'theta': 90},\n",
    "    {'type': 'scaling','scale_factor': 1}\n",
    "]\n",
    "\n",
    "# Apply transformations to the original square\n",
    "transformed_square = transform_shape(original_square, transformations)\n",
    "\n",
    "# Plot the transformed square\n",
    "plot_shape(transformed_square, color='red', label_prefix=\"P'\")\n",
    "\n",
    "# Set plot limits and labels\n",
    "plt.xlim(-2, 2)\n",
    "plt.ylim(-2, 2)\n",
    "plt.axhline(0, color='black', linewidth=0.5)\n",
    "plt.axvline(0, color='black', linewidth=0.5)\n",
    "plt.grid(True)\n",
    "plt.legend(['Original Square', 'Transformed Square'])\n",
    "plt.xlabel('X')\n",
    "plt.ylabel('Y')\n",
    "plt.title('Original and Transformed Squares')\n",
    "\n",
    "plt.show()\n"
   ]
  },
  {
   "cell_type": "code",
   "execution_count": 6,
   "id": "e4523ddf",
   "metadata": {},
   "outputs": [],
   "source": [
    "# Function to apply transformations to a set of vertices while plotting the shape after applying each transformation\n",
    "\n",
    "def transform_shape_with_stepwise_plots(vertices, transformations):\n",
    "    transformed_vertices = vertices.copy()\n",
    "    for transform in transformations:\n",
    "        type_ = transform['type']\n",
    "        if type_ == 'rotation':\n",
    "            theta = transform['theta']\n",
    "            transformed_vertices = np.array([rotate_point(v, theta) for v in transformed_vertices])\n",
    "            plot_shape(transformed_vertices, color='red', label_prefix=\"P'\")\n",
    "        elif type_ == 'reflection':\n",
    "            theta = transform['theta']\n",
    "            transformed_vertices = np.array([reflect_point(v, theta) for v in transformed_vertices])\n",
    "            plot_shape(transformed_vertices, color='red', label_prefix=\"P'\")\n",
    "        elif type_ == 'shear':\n",
    "            shear_factor = transform['shear_factor']\n",
    "            direction = transform['direction']\n",
    "            transformed_vertices = np.array([shear_point(v, shear_factor, direction) for v in transformed_vertices])\n",
    "            plot_shape(transformed_vertices, color='red', label_prefix=\"P'\")\n",
    "        elif type_ == 'scaling':\n",
    "            scale_factor = transform['scale_factor']\n",
    "            transformed_vertices = np.array([scale_point(v, scale_factor) for v in transformed_vertices])\n",
    "            plot_shape(transformed_vertices, color='red', label_prefix=\"P'\")\n",
    "    return transformed_vertices"
   ]
  },
  {
   "cell_type": "code",
   "execution_count": 7,
   "id": "32c6c1fa",
   "metadata": {},
   "outputs": [
    {
     "data": {
      "image/png": "[encoded data removed]",
      "text/plain": [
       "<Figure size 576x576 with 1 Axes>"
      ]
     },
     "metadata": {
      "needs_background": "light"
     },
     "output_type": "display_data"
    }
   ],
   "source": [
    "# Plot the square\n",
    "plt.figure(figsize=(8, 8))\n",
    "plot_shape(original_square, color='blue', label_prefix='P')\n",
    "\n",
    "# Set plot limits and labels\n",
    "plt.xlim(-3, 3)\n",
    "plt.ylim(-3, 3)\n",
    "plt.axhline(0, color='black', linewidth=0.5)\n",
    "plt.axvline(0, color='black', linewidth=0.5)\n",
    "plt.grid(True)\n",
    "#plt.legend(['Original Square', 'Transformed Square'])\n",
    "plt.xlabel('X')\n",
    "plt.ylabel('Y')\n",
    "plt.title('Original and Transformed Squares')\n",
    "\n",
    "\n",
    "\n",
    "# Sequence of transformations\n",
    "transformations = [\n",
    "    {'type': 'reflection', 'theta': 0},\n",
    "    {'type': 'shear', 'shear_factor': 0.3, 'direction': 'x'},\n",
    "    {'type': 'rotation', 'theta': 90},\n",
    "    {'type': 'scaling','scale_factor': 1}\n",
    "]\n",
    "\n",
    "# Apply transformations to the original square\n",
    "transformed_square = transform_shape_with_stepwise_plots(original_square, transformations)\n",
    "\n",
    "# Plot the transformed square\n",
    "plot_shape(transformed_square, color='red', label_prefix=\"P'\")\n",
    "\n",
    "\n",
    "plt.show()"
   ]
  },
  {
   "cell_type": "markdown",
   "id": "a4b01564",
   "metadata": {},
   "source": [
    "To plot the shapes resulting after each transformation using a color gradient in the same plot:"
   ]
  },
  {
   "cell_type": "code",
   "execution_count": 8,
   "id": "4234be7f",
   "metadata": {},
   "outputs": [],
   "source": [
    "from matplotlib import colors"
   ]
  },
  {
   "cell_type": "code",
   "execution_count": 9,
   "id": "64f8e2c6",
   "metadata": {},
   "outputs": [],
   "source": [
    "def hex_to_RGB(hex_str):\n",
    "    \"\"\" #FFFFFF -> [255,255,255]\"\"\"\n",
    "    #Pass 16 to the integer function for change of base\n",
    "    return [int(hex_str[i:i+2], 16) for i in range(1,6,2)]\n",
    "\n",
    "def get_color_gradient(c1, c2, n):\n",
    "    \"\"\"\n",
    "    Given two hex colors, returns a color gradient\n",
    "    with n colors.\n",
    "    \"\"\"\n",
    "    assert n > 1\n",
    "    c1_rgb = np.array(hex_to_RGB(c1))/255\n",
    "    c2_rgb = np.array(hex_to_RGB(c2))/255\n",
    "    mix_pcts = [x/(n-1) for x in range(n)]\n",
    "    rgb_colors = [((1-mix)*c1_rgb + (mix*c2_rgb)) for mix in mix_pcts]\n",
    "    return [\"#\" + \"\".join([format(int(round(val*255)), \"02x\") for val in item]) for item in rgb_colors]\n"
   ]
  },
  {
   "cell_type": "markdown",
   "id": "035170fc",
   "metadata": {},
   "source": [
    "Colors:\n",
    "'b' - blue.\n",
    "'c' - cyan.\n",
    "'g' - green.\n",
    "'k' - black.\n",
    "'m' - magenta.\n",
    "'r' - red.\n",
    "'w' - white.\n",
    "'y' - yellow."
   ]
  },
  {
   "cell_type": "code",
   "execution_count": 10,
   "id": "022783d3",
   "metadata": {},
   "outputs": [],
   "source": [
    "# Function to apply transformations to a set of vertices while plotting the shape after applying each transformation\n",
    "def transform_shape_with_stepwise_plots(vertices, transformations):\n",
    "    transformed_vertices = vertices.copy()\n",
    "    \n",
    "    colours = get_color_gradient(matplotlib.colors.to_hex('b'), matplotlib.colors.to_hex('r'), len(transformations)+1)\n",
    "\n",
    "    j = 0\n",
    "    for transform in transformations:\n",
    "        type_ = transform['type']\n",
    "        j = j+1\n",
    "        if type_ == 'rotation':\n",
    "            theta = transform['theta']\n",
    "            transformed_vertices = np.array([rotate_point(v, theta) for v in transformed_vertices])\n",
    "            plot_shape(transformed_vertices, color=colours[j], label_prefix=\"P'\")\n",
    "        elif type_ == 'reflection':\n",
    "            theta = transform['theta']\n",
    "            transformed_vertices = np.array([reflect_point(v, theta) for v in transformed_vertices])\n",
    "            plot_shape(transformed_vertices, color=colours[j], label_prefix=\"P'\")\n",
    "        elif type_ == 'shear':\n",
    "            shear_factor = transform['shear_factor']\n",
    "            direction = transform['direction']\n",
    "            transformed_vertices = np.array([shear_point(v, shear_factor, direction) for v in transformed_vertices])\n",
    "            plot_shape(transformed_vertices, color=colours[j], label_prefix=\"P'\")\n",
    "        elif type_ == 'scaling':\n",
    "            scale_factor = transform['scale_factor']\n",
    "            transformed_vertices = np.array([scale_point(v, scale_factor) for v in transformed_vertices])\n",
    "            plot_shape(transformed_vertices, color=colours[j], label_prefix=\"P'\")\n",
    "        \n",
    "    return transformed_vertices"
   ]
  },
  {
   "cell_type": "code",
   "execution_count": 11,
   "id": "716ca112",
   "metadata": {},
   "outputs": [
    {
     "data": {
      "image/png": "[encoded data removed]",
      "text/plain": [
       "<Figure size 576x576 with 1 Axes>"
      ]
     },
     "metadata": {
      "needs_background": "light"
     },
     "output_type": "display_data"
    }
   ],
   "source": [
    "# Plot the square\n",
    "plt.figure(figsize=(8, 8))\n",
    "plot_shape(original_square, color='blue', label_prefix='P')\n",
    "\n",
    "# Set plot limits and labels\n",
    "plt.xlim(-3, 3)\n",
    "plt.ylim(-3, 3)\n",
    "plt.axhline(0, color='black', linewidth=0.5)\n",
    "plt.axvline(0, color='black', linewidth=0.5)\n",
    "plt.grid(True)\n",
    "#plt.legend(['Original Square', 'Transformed Square'])\n",
    "plt.xlabel('X')\n",
    "plt.ylabel('Y')\n",
    "plt.title('Original and Transformed Squares')\n",
    "\n",
    "\n",
    "\n",
    "# Sequence of transformations\n",
    "transformations = [\n",
    "    {'type': 'reflection', 'theta': 0},\n",
    "    {'type': 'shear', 'shear_factor': 0.3, 'direction': 'x'},\n",
    "    {'type': 'rotation', 'theta': 90},\n",
    "    {'type': 'scaling','scale_factor': 2}\n",
    "]\n",
    "\n",
    "\n",
    "# Apply transformations to the original square\n",
    "transformed_square = transform_shape_with_stepwise_plots(original_square, transformations)\n",
    "\n",
    "\n",
    "\"\"\" # Now the final square need not be plotted again as it is already plotted inside the function.\n",
    "# Plot the transformed square \n",
    "plot_shape(transformed_square, color='green', label_prefix=\"P'\")\n",
    "\"\"\"\n",
    "\n",
    "plt.show()"
   ]
  },
  {
   "cell_type": "code",
   "execution_count": null,
   "id": "60bf5bb8",
   "metadata": {},
   "outputs": [],
   "source": []
  }
 ],
 "metadata": {
  "kernelspec": {
   "display_name": "Python 3 (ipykernel)",
   "language": "python",
   "name": "python3"
  },
  "language_info": {
   "codemirror_mode": {
    "name": "ipython",
    "version": 3
   },
   "file_extension": ".py",
   "mimetype": "text/x-python",
   "name": "python",
   "nbconvert_exporter": "python",
   "pygments_lexer": "ipython3",
   "version": "3.11.5"
  }
 },
 "nbformat": 4,
 "nbformat_minor": 5
}
